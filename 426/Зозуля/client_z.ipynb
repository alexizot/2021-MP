{
  "nbformat": 4,
  "nbformat_minor": 0,
  "metadata": {
    "colab": {
      "name": "client_z.ipynb",
      "provenance": [],
      "collapsed_sections": []
    },
    "kernelspec": {
      "name": "python3",
      "display_name": "Python 3"
    },
    "language_info": {
      "name": "python"
    }
  },
  "cells": [
    {
      "cell_type": "code",
      "metadata": {
        "id": "hZz8bHXCTy6t"
      },
      "source": [
        "import random\n",
        "import os\n",
        "import threading\n",
        "import queue\n",
        "import socket\n",
        "import sys\n",
        "\n",
        "\n",
        "def PriemDannyh(sock):\n",
        "    while True:\n",
        "        try:\n",
        "            data,addr = sock.recvfrom(1024)\n",
        "            print(data.decode('utf-8'))\n",
        "        except:\n",
        "            pass\n",
        "\n",
        "def StartClienta(serverIP):\n",
        "    host = socket.gethostbyname(socket.gethostname())\n",
        "    port = random.randint(1300,9999)\n",
        "    print('Client IP->'+str(host)+' Port->'+str(port))\n",
        "    server = (str(serverIP),5000)\n",
        "    s = socket.socket(socket.AF_INET,socket.SOCK_DGRAM)\n",
        "    s.bind((host,port))\n",
        "\n",
        "    name = input('Please write your name here: ')\n",
        "    if name == '':\n",
        "        name = 'Guest'+str(random.randint(1234,9876))\n",
        "        print('Your name is:'+name)\n",
        "    s.sendto(name.encode('utf-8'),server)\n",
        "    threading.Thread(target=PriemDannyh,args=(s,)).start()\n",
        "    while True:\n",
        "        data = input()\n",
        "        if data == 'qqq':\n",
        "            break\n",
        "        elif data=='':\n",
        "            continue        \n",
        "        data = '['+name+']' + '->'+ data\n",
        "        s.sendto(data.encode('utf-8'),server)\n",
        "    s.sendto(data.encode('utf-8'),server)\n",
        "    s.close()\n",
        "    os._exit(1)\n",
        "\n",
        "if __name__ == '__main__':\n",
        "    IP = input(\"Vvedite IP : \")\n",
        "StartClienta(IP)"
      ],
      "execution_count": null,
      "outputs": []
    }
  ]
}