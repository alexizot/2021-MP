{
  "nbformat": 4,
  "nbformat_minor": 0,
  "metadata": {
    "colab": {
      "name": "server_z.ipynb",
      "provenance": [],
      "collapsed_sections": []
    },
    "kernelspec": {
      "name": "python3",
      "display_name": "Python 3"
    },
    "language_info": {
      "name": "python"
    }
  },
  "cells": [
    {
      "cell_type": "code",
      "metadata": {
        "id": "hZz8bHXCTy6t"
      },
      "source": [
        "import socket\n",
        "import threading\n",
        "import queue\n",
        "import sys\n",
        "import random\n",
        "import os\n",
        "import re\n",
        "\n",
        "def RecvData(sock,recvPackets):\n",
        "    while True:\n",
        "        data,addr = sock.recvfrom(1024) \n",
        "        recvPackets.put((data,addr))       \n",
        "def blackList(self,userId):\n",
        "        self.blackListUser.add(userId)   \n",
        "def RunServer():\n",
        "    host = socket.gethostbyname(socket.gethostname())\n",
        "    port = 5000\n",
        "    print('Server hosting on IP-> '+str(host))\n",
        "    s = socket.socket(socket.AF_INET,socket.SOCK_DGRAM) \n",
        "    s.bind((host,port)) \n",
        "    clients = set() \n",
        "    recvPackets = queue.Queue() \n",
        "\n",
        "    print('Server Running...')    \n",
        "    threading.Thread(target=RecvData,args=(s,recvPackets)).start() \n",
        "    with open('./log.txt', 'w') as f:\n",
        "        while True:\n",
        "            while not recvPackets.empty():\n",
        "                data,addr = recvPackets.get()\n",
        "                if addr not in clients:\n",
        "                    clients.add(addr)\n",
        "                    continue\n",
        "                clients.add(addr) \n",
        "                data = data.decode('utf-8')  \n",
        "                if ('вулкан' in data) or('полуостров'in data):\n",
        "                       \tmessage=str(addr)+data+'\\n'\n",
        "                        f.write(message)\n",
        "                       \tprint(message)\n",
        "                       \tprint('Запрещённое слово')\n",
        "                        data=data.replace('вулкан', '******')\n",
        "                        data=data.replace('полуостров', '**********')\n",
        "                       \tfor c in clients: \n",
        "                           if c!=addr:                                 \n",
        "                               \ts.sendto(data.encode('utf-8'), c)\n",
        "                       \tcontinue              \n",
        "                if data.endswith('qqq'): \n",
        "                    clients.remove(addr)\n",
        "                    continue\n",
        "                f.write(str(addr)+data + '\\n')\n",
        "                print(str(addr)+data)\n",
        "                for c in clients:                                \n",
        "                    if c!=addr: \n",
        "                        s.sendto(data.encode('utf-8'),c)\n",
        "                            \n",
        "        s.close()\n",
        "\n",
        "if __name__ == '__main__':\n",
        "    if len(sys.argv)==1:\n",
        "        RunServer()\n",
        "    elif len(sys.argv)==2:\n",
        "        RunClient(sys.argv[1])\n",
        "    else:\n",
        "        print('Run Server:-> python Chat.py')\n",
        "        print('Run Client:-> python Chat.py <ServerIP>')"
      ],
      "execution_count": null,
      "outputs": []
    }
  ]
}