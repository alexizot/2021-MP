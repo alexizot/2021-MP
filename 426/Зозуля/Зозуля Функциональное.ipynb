#Зозуля 30.05.1991
import numpy as np
import math
A=6
B=30
C=1991+5*3
func= lambda x: np.exp(A*x)+x**B+math.log(x**3,C)
a=0.001#приближение
b=0.2
c=1
eps=10**(-12)# по условиям
i=0
while(b-a>eps):
    c=(a+b)/2 #середина отрезка
    if(func(b)*func(c)<0): #пересечение границы
        print(a,"--",b)
        a=c# cдвиг границы
    else:
        b=c  
    i+=1
print(func(a))